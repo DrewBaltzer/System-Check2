{
 "cells": [
  {
   "cell_type": "markdown",
   "id": "ff30d37a",
   "metadata": {},
   "source": [
    "# Heading\n",
    "\n",
    "#### Heading 4\n",
    "\n",
    "_italics_\n",
    "\n",
    "**bold**\n",
    "\n",
    "1. thing \n",
    "2. thing\n",
    "\n",
    "- thing\n",
    "\n",
    "![](https://upload.wikimedia.org/wikipedia/en/thumb/2/2a/Kent_State_seal.svg/1200px-Kent_State_seal.svg.png)"
   ]
  },
  {
   "cell_type": "code",
   "execution_count": 1,
   "id": "b1a6cbce",
   "metadata": {},
   "outputs": [],
   "source": [
    "myVAriable = 3 + 4"
   ]
  },
  {
   "cell_type": "code",
   "execution_count": 2,
   "id": "9f228f63",
   "metadata": {
    "scrolled": true
   },
   "outputs": [
    {
     "data": {
      "text/plain": [
       "7"
      ]
     },
     "execution_count": 2,
     "metadata": {},
     "output_type": "execute_result"
    }
   ],
   "source": [
    "myVAriable"
   ]
  },
  {
   "cell_type": "markdown",
   "id": "ab35ea96",
   "metadata": {},
   "source": []
  },
  {
   "cell_type": "code",
   "execution_count": 3,
   "id": "d1b57efa",
   "metadata": {},
   "outputs": [
    {
     "name": "stdout",
     "output_type": "stream",
     "text": [
      "2\n",
      "3\n",
      "4\n",
      "5\n",
      "6\n"
     ]
    }
   ],
   "source": [
    "x = [0,1,2,3,4]\n",
    "for i in x:\n",
    "    z = i + 2\n",
    "    print(z)"
   ]
  },
  {
   "cell_type": "code",
   "execution_count": 4,
   "id": "641db2b7",
   "metadata": {},
   "outputs": [],
   "source": [
    "def sillything(x):\n",
    "    return \"silly \" + str(x)"
   ]
  },
  {
   "cell_type": "code",
   "execution_count": 5,
   "id": "4f0a964f",
   "metadata": {},
   "outputs": [],
   "source": [
    "j = sillything(\"dog\")"
   ]
  },
  {
   "cell_type": "code",
   "execution_count": 6,
   "id": "336a6c88",
   "metadata": {},
   "outputs": [
    {
     "data": {
      "text/plain": [
       "'silly dog'"
      ]
     },
     "execution_count": 6,
     "metadata": {},
     "output_type": "execute_result"
    }
   ],
   "source": [
    "j"
   ]
  },
  {
   "cell_type": "code",
   "execution_count": null,
   "id": "51465a8b",
   "metadata": {},
   "outputs": [],
   "source": []
  }
 ],
 "metadata": {
  "kernelspec": {
   "display_name": "Python 3 (ipykernel)",
   "language": "python",
   "name": "python3"
  },
  "language_info": {
   "codemirror_mode": {
    "name": "ipython",
    "version": 3
   },
   "file_extension": ".py",
   "mimetype": "text/x-python",
   "name": "python",
   "nbconvert_exporter": "python",
   "pygments_lexer": "ipython3",
   "version": "3.9.6"
  }
 },
 "nbformat": 4,
 "nbformat_minor": 5
}
